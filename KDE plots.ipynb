{
 "cells": [
  {
   "cell_type": "code",
   "execution_count": 1,
   "metadata": {
    "collapsed": false,
    "deletable": true,
    "editable": true
   },
   "outputs": [
    {
     "name": "stdout",
     "output_type": "stream",
     "text": [
      "Using matplotlib backend: TkAgg\n"
     ]
    }
   ],
   "source": [
    "import matplotlib.pyplot as plt\n",
    "import matplotlib.patches as mpatches\n",
    "from matplotlib import rc\n",
    "%matplotlib auto\n",
    "import numpy as np\n",
    "from sklearn.neighbors import KernelDensity\n",
    "from scipy.stats import gaussian_kde\n",
    "\n",
    "rc('font', **{'family': 'serif'})\n",
    "rc('text', usetex=True)\n",
    "rc('text.latex', unicode=True)\n",
    "rc('text.latex', preamble='\\\\usepackage[utf8]{inputenc}')\n",
    "rc('text.latex', preamble='\\\\usepackage[russian]{babel}')"
   ]
  },
  {
   "cell_type": "code",
   "execution_count": 2,
   "metadata": {
    "collapsed": false,
    "deletable": true,
    "editable": true
   },
   "outputs": [],
   "source": [
    "def plot_kernels():\n",
    "    fig, ax = plt.subplots(figsize=(8, 6))\n",
    "#     fig, ax = plt.plot()\n",
    "    ax.grid(color='white', linestyle='-', linewidth=10)\n",
    "    X_src = np.zeros((1, 1))\n",
    "    x_grid = np.linspace(-3, 3, 1000)\n",
    "\n",
    "    for kernel in ['gaussian', 'tophat', 'epanechnikov',\n",
    "                   'linear', 'cosine']:\n",
    "        log_dens = KernelDensity(kernel=kernel).fit(X_src).score_samples(x_grid[:, None])\n",
    "        ax.plot(x_grid, np.exp(log_dens), lw=3, alpha=0.5)\n",
    "    ax.set_ylim(0, 1.05)\n",
    "    ax.set_xlim(-2.9, 2.9)\n",
    "    ax.legend([u\"гаусове\", u\"пряме\", u\"оптимальне\", u\"трикутне\", u\"квадратичне\"])\n",
    "    plt.show()"
   ]
  },
  {
   "cell_type": "code",
   "execution_count": 5,
   "metadata": {
    "collapsed": false,
    "deletable": true,
    "editable": true
   },
   "outputs": [],
   "source": [
    "plot_kernels()"
   ]
  }
 ],
 "metadata": {
  "kernelspec": {
   "display_name": "Python 2",
   "language": "python",
   "name": "python2"
  },
  "language_info": {
   "codemirror_mode": {
    "name": "ipython",
    "version": 2
   },
   "file_extension": ".py",
   "mimetype": "text/x-python",
   "name": "python",
   "nbconvert_exporter": "python",
   "pygments_lexer": "ipython2",
   "version": "2.7.12"
  }
 },
 "nbformat": 4,
 "nbformat_minor": 2
}
